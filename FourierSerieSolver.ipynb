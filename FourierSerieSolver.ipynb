{
  "nbformat": 4,
  "nbformat_minor": 0,
  "metadata": {
    "colab": {
      "name": "FourierSerieSolver.ipynb",
      "provenance": []
    },
    "kernelspec": {
      "name": "python3",
      "display_name": "Python 3"
    }
  },
  "cells": [
    {
      "cell_type": "markdown",
      "metadata": {
        "id": "ral5ryhmWPPs",
        "colab_type": "text"
      },
      "source": [
        "# Information\n",
        "\n",
        "*   **Author:** Erick Andrés Obregón Fonseca\n",
        "*   **Career:** Computer Engineering\n",
        "*   **Email:** erickobregonf@gmail.com\n",
        "*   **Github:** [ErickOF](https://github.com/ErickOF)\n",
        "*   **Google Colab Code:** [Code](https://colab.research.google.com/drive/11Rnm7eITKN_uGF0kkI-fl9B6Ml8GHQxC)\n",
        "\n",
        "## Versions\n",
        "### v1.0.0 (december 2018)\n",
        "*   Fourier series plotter (real and approach)\n",
        "\n",
        "### v1.0.1 (december 2018)\n",
        "*   Optimized\n",
        "\n",
        "### v1.1.0 (january 2019)\n",
        "*   Amplitude and phase spectrum\n",
        "\n",
        "### v2.1.0 (july 2019)\n",
        "*   Fourier series solver based on Latex functions syntax, without simplified coefficients\n",
        "*   Only continuous functions \n",
        "\n",
        "### v2.2.0 (july 2019)\n",
        "*   Fourier series solver based on Latex functions syntax, with simplified coefficients\n",
        "*   Now piecewise functions are available\n",
        "*   Only constants functions\n",
        "\n",
        "### v2.2.1 (july 2019)\n",
        "*   Fourier series solver based on Latex functions syntax, with simplified coefficients and functions\n",
        "\n",
        "### v2.2.2 (july 2019)\n",
        "*   Now rational, logarithmic, exponential, trigonometric, inverse trigonometric and polynomial functions are available (I guess anyone :c, I need to test)\n",
        "\n",
        "### v2.2.3 (july 2019)\n",
        "*   The period of the function, the functions and the intervals are now entered by console\n",
        "\n"
      ]
    },
    {
      "cell_type": "markdown",
      "metadata": {
        "id": "gFmrtjSQWFxM",
        "colab_type": "text"
      },
      "source": [
        "# Install modules"
      ]
    },
    {
      "cell_type": "code",
      "metadata": {
        "id": "g979xj6dZP3d",
        "colab_type": "code",
        "outputId": "de3a3b7a-a6ba-4d7d-9675-057a3d2e76be",
        "colab": {
          "base_uri": "https://localhost:8080/",
          "height": 50
        }
      },
      "source": [
        "!pip install sympy==1.2"
      ],
      "execution_count": 15,
      "outputs": [
        {
          "output_type": "stream",
          "text": [
            "Requirement already satisfied: sympy==1.2 in /usr/local/lib/python3.6/dist-packages (1.2)\n",
            "Requirement already satisfied: mpmath>=0.19 in /usr/local/lib/python3.6/dist-packages (from sympy==1.2) (1.1.0)\n"
          ],
          "name": "stdout"
        }
      ]
    },
    {
      "cell_type": "markdown",
      "metadata": {
        "id": "iji_4w8TLRPf",
        "colab_type": "text"
      },
      "source": [
        "# Modules"
      ]
    },
    {
      "cell_type": "code",
      "metadata": {
        "id": "TpN8MJ1IjhYx",
        "colab_type": "code",
        "colab": {}
      },
      "source": [
        "from google.colab.output._publish import javascript\n",
        "\n",
        "import matplotlib.pyplot as plt\n",
        "\n",
        "import numpy as np\n",
        "import numpy.matlib as matlib\n",
        "\n",
        "import sympy\n",
        "from sympy.abc import k, n, t\n",
        "from sympy import cos, sin, Sum,  oo\n",
        "from sympy import lambdify, simplify, symbols, sympify\n",
        "from sympy.utilities.lambdify import lambdastr"
      ],
      "execution_count": 0,
      "outputs": []
    },
    {
      "cell_type": "markdown",
      "metadata": {
        "id": "FRkxQtD9LTsC",
        "colab_type": "text"
      },
      "source": [
        "# Settings"
      ]
    },
    {
      "cell_type": "code",
      "metadata": {
        "id": "_W3-OK6pLWIu",
        "colab_type": "code",
        "colab": {}
      },
      "source": [
        "def custom_latex_printer(exp,**options):\n",
        "    url = \"https://cdnjs.cloudflare.com/ajax/libs/mathjax/2.7.3/latest.js?config=default\"\n",
        "    javascript(url=url)\n",
        "    return sympy.printing.latex(exp,**options)\n",
        "\n",
        "sympy.init_printing(use_latex=\"mathjax\", latex_printer=custom_latex_printer)"
      ],
      "execution_count": 0,
      "outputs": []
    },
    {
      "cell_type": "markdown",
      "metadata": {
        "id": "tb47yg8RmsOh",
        "colab_type": "text"
      },
      "source": [
        "# Fourier Series Solver\n",
        "\n",
        "##  Fourier Sine and Cosine Series\n",
        "\n",
        "$f(t) = a_0 + \\sum_{n=1}^\\infty [a_n \\cos (w_0 t) + b_n \\sin (w_0 t)]$\n",
        "\n",
        "$a_0 = \\frac{1}{T} \\int_{t_0}^{t_0 + T} f(t) dt$\n",
        "\n",
        "$a_n = \\frac{2}{T} \\int_{t_0}^{t_0 + T} f(t) cos (n w_0 t) dt$\n",
        "\n",
        "$b_n = \\frac{2}{T} \\int_{t_0}^{t_0 + T} f(t) sin (n w_0 t) dt$\n",
        "\n",
        "## Params\n",
        "\n",
        "* *T:* Period\n",
        "* *funtions:* Iterable with each part of the function\n",
        "* *limits:* Iterable with the ranges of each part of the function"
      ]
    },
    {
      "cell_type": "code",
      "metadata": {
        "id": "bDH4waQ4mw-8",
        "colab_type": "code",
        "colab": {}
      },
      "source": [
        "class FourierSerieSolver:\n",
        "  \n",
        "  def solve_sin_cos(self, T, funtions, limits=None):\n",
        "    if isinstance(funtions, (list, tuple)) and isinstance(funtions, (list, tuple)):\n",
        "      if len(funtions) == len(limits):\n",
        "        # w0\n",
        "        pi = sympy.Symbol('pi')\n",
        "        w0 = 2*pi/T\n",
        "        \n",
        "        # a0\n",
        "        a0, an, bn = 0, 0, 0\n",
        "        \n",
        "        for f, lim in zip(funtions, limits):\n",
        "          a0 += 1/T * sympy.integrate(f, (t, lim[0], lim[1]))\n",
        "          an += 2/T * sympy.integrate(f*cos(n*t*w0), (t, lim[0], lim[1]), conds='separate')\n",
        "          bn += 2/T * sympy.integrate(f*sin(n*t*w0), (t, lim[0], lim[1]), conds='separate')\n",
        "        \n",
        "        # Simplify\n",
        "        an = simplify(an.subs(cos(2*n*pi), 1).subs(sin(2*n*pi), 0).subs(cos(n*pi), (-1)**n).subs(sin(n*pi), 0))\n",
        "        bn = simplify(bn.subs(cos(2*n*pi), 1).subs(sin(2*n*pi), 0).subs(cos(n*pi), (-1)**n).subs(sin(n*pi), 0))\n",
        "        f_t = simplify(a0 + Sum(an*cos(n*w0*t) + bn*sin(n*w0*t), (n, 1, oo)))\n",
        "        \n",
        "        return a0, an, bn, f_t\n",
        "      else:\n",
        "        raise ValueError('Functions and limits size doesn\\'t match.')\n",
        "    else:\n",
        "      raise ValueError('Functions and limits must be a iterable.')"
      ],
      "execution_count": 0,
      "outputs": []
    },
    {
      "cell_type": "markdown",
      "metadata": {
        "id": "mh8vJgvkO7fj",
        "colab_type": "text"
      },
      "source": [
        "# Fourier Series Plotter"
      ]
    },
    {
      "cell_type": "code",
      "metadata": {
        "id": "XtH7cT9IObSn",
        "colab_type": "code",
        "colab": {}
      },
      "source": [
        "class FourierSeriePlotter:\n",
        "    def __init__(self, T, start=None, end=None, step=None):\n",
        "        \"\"\"\n",
        "        T     - Period\n",
        "        a0    - CD component\n",
        "        start - Initial value for time. Default value -2*T\n",
        "        end   - Final value for time. Default value 2*T\n",
        "        step  - Step by step in time. Default value 0.001\n",
        "        \"\"\"\n",
        "        # Period\n",
        "        self.__T = T\n",
        "        \n",
        "        # Angular frecuency\n",
        "        self.__w = (2*np.pi)/self.__T\n",
        "        \n",
        "        # Time\n",
        "        if (start == None):\n",
        "            start = -2*T\n",
        "        if (end == None):\n",
        "            end = 2*T\n",
        "        if (step == None):\n",
        "            step = 0.01\n",
        "        \n",
        "        N = (end - start)/step\n",
        "        self.__t = np.linspace(start, end, N)\n",
        "    \n",
        "    def sin_cos_serie(self, a0, ak_exp, bk_exp):\n",
        "        ak_f = lambdify(ak_exp.free_symbols, ak_exp, 'numpy')\n",
        "        bk_f = lambdify(bk_exp.free_symbols, bk_exp, 'numpy')\n",
        "        \n",
        "        y = a0\n",
        "        N = 10000\n",
        "\n",
        "        for k in range(1, N + 1):\n",
        "            # ak\n",
        "            ak = 0\n",
        "            if len(ak_exp.free_symbols) == 2:\n",
        "              ak = ak_f(np.pi, k)\n",
        "            # bk\n",
        "            bk = 0\n",
        "            if len(bk_exp.free_symbols) == 2:\n",
        "              bk = bk_f(np.pi, k)\n",
        "            \n",
        "            y += ak*np.cos(self.__w*k*self.__t) + bk*np.sin(self.__w*k*self.__t)\n",
        "\n",
        "        return self.__t, y\n",
        "\n",
        "    def sin_cos_serie_aprox(self, a0, ak_exp, bk_exp, N=50):\n",
        "        ak_f = lambdify(ak_exp.free_symbols, ak_exp, 'numpy')\n",
        "        bk_f = lambdify(bk_exp.free_symbols, bk_exp, 'numpy')\n",
        "        \n",
        "        # Approach\n",
        "        y = a0\n",
        "        # Amplitude Spectrum\n",
        "        an = np.zeros(N)\n",
        "        # Phase Spectrum\n",
        "        phi = np.zeros(N)\n",
        "\n",
        "        wk = self.__w*np.array(range(1, N + 1))\n",
        "\n",
        "        for k in range(1, N + 1):\n",
        "            # ak\n",
        "            ak = 0\n",
        "            if len(ak_exp.free_symbols) == 2:\n",
        "              ak = ak_f(np.pi, k)\n",
        "            # bk\n",
        "            bk = 0\n",
        "            if len(bk_exp.free_symbols) == 2:\n",
        "              bk = bk_f(np.pi, k)\n",
        "            \n",
        "            y += ak*np.cos(wk[k - 1]*self.__t) + bk*np.sin(wk[k - 1]*self.__t)\n",
        "            \n",
        "            an[k - 1] = np.sqrt(ak**2 + bk**2)\n",
        "        \n",
        "            if (ak == 0 and bk == 0) or (ak < 0 and bk == 0):\n",
        "                phi[k - 1] = 0\n",
        "            elif ak >= 0 and bk == 0:\n",
        "                phi[k - 1] = 180\n",
        "            elif ak == 0 and bk > 0:\n",
        "                phi[k - 1] = -90\n",
        "            elif ak == 0 and bk < 0:\n",
        "                phi[k - 1] = 90\n",
        "            else:\n",
        "                phi[k - 1] = -np.arctan(bk/ak)*180/np.pi\n",
        "                \n",
        "                if ak > 0 and bk > 0:\n",
        "                    phi[k - 1] += 180\n",
        "                elif ak < 0 and bk > 0:\n",
        "                    phi[k - 1] -= 180\n",
        "        \n",
        "        return self.__t, y, an, phi, wk"
      ],
      "execution_count": 0,
      "outputs": []
    },
    {
      "cell_type": "markdown",
      "metadata": {
        "id": "dpreJBlB0hAk",
        "colab_type": "text"
      },
      "source": [
        "## Instructions\n",
        "\n",
        "1.   Enter the period of the function\n",
        "2.   Enter the number of piecewise of the function\n",
        "3.   Enter each piecewise without spaces\n",
        "\n",
        "  *   $f_i(t)$ : function\n",
        "  *   $a_i$ : lower limit\n",
        "  *   $b_i$ : upper limit\n",
        "  \n",
        " \n",
        " ## Symbols:\n",
        " \n",
        " * $ t + 1 $ = t+1\n",
        " * $ t - 1 $ = t-1\n",
        " * $ at $ = a*t\n",
        " * $ \\frac{t}{a} $ = t/a\n",
        " * $ t^n $ = t**n\n",
        " * $ \\sqrt[n]{t} $ = t**(1/n)\n",
        " "
      ]
    },
    {
      "cell_type": "markdown",
      "metadata": {
        "id": "nNXxB8g8kWnY",
        "colab_type": "text"
      },
      "source": [
        "# Example\n",
        "\n",
        "## Inputs\n",
        "\n",
        "![alt text](https://img2.freepng.es/20180613/zuf/kisspng-rectangular-function-square-wave-pulse-signal-rect-t-square-5b20d0055eee30.0876261715288770613889.jpg \"Logo Title Text 1\")\n",
        "\n",
        "#### Piecewise function\n",
        "$f_1(t)=1; \\space 0 < t < 1$\n",
        "\n",
        "$f_2(t)=0; \\space 1 < t < 2$\n",
        "\n",
        "\n",
        "#### T: Period\n",
        "$T = 2$\n",
        "\n",
        "\n",
        "## In this case\n",
        "\n",
        "Period T = *2*\n",
        "\n",
        "Amount of piecewise functions: *2*\n",
        "\n",
        "f1(t) = *1*\n",
        "\n",
        "a1 = *0*\n",
        "\n",
        "b1 = *1*\n",
        "\n",
        "\n",
        "f2(t) = *0*\n",
        "\n",
        "a2 = *1*\n",
        "\n",
        "b2 = *2*"
      ]
    },
    {
      "cell_type": "code",
      "metadata": {
        "id": "hqszYONSkVs9",
        "colab_type": "code",
        "outputId": "a44bb36f-ff0b-4a5b-9475-029c73d21fdc",
        "colab": {
          "base_uri": "https://localhost:8080/",
          "height": 202
        }
      },
      "source": [
        "# Period\n",
        "T = eval(input('Period T = '))\n",
        "\n",
        "# Amount of piecewise functions\n",
        "amount = int(input('Amount of piecewise functions: '))\n",
        "\n",
        "function = []\n",
        "limits = []\n",
        "\n",
        "for i in range(amount):\n",
        "  # Function\n",
        "  f_str = input('f{}(t) = '.format(i+1))\n",
        "  f = sympify(f_str)\n",
        "  a = eval(input('a{} = '.format(i+1)))\n",
        "  b = eval(input('b{} = '.format(i+1)))\n",
        "  lim = (a, b)\n",
        "  \n",
        "  function.append(f)\n",
        "  limits.append(lim)\n",
        "  print()\n",
        "\n",
        "M = int(input('How many harmonics? '))"
      ],
      "execution_count": 20,
      "outputs": [
        {
          "output_type": "stream",
          "text": [
            "Period T = 2\n",
            "Amount of piecewise functions: 2\n",
            "f1(t) = 1\n",
            "a1 = 0\n",
            "b1 = 1\n",
            "\n",
            "f2(t) = 0\n",
            "a2 = 1\n",
            "b2 = 2\n",
            "\n",
            "How many harmonics? 15\n"
          ],
          "name": "stdout"
        }
      ]
    },
    {
      "cell_type": "markdown",
      "metadata": {
        "id": "-0Qxjgu6PT3J",
        "colab_type": "text"
      },
      "source": [
        "## Solving"
      ]
    },
    {
      "cell_type": "code",
      "metadata": {
        "id": "1PkncQrgqWGb",
        "colab_type": "code",
        "outputId": "73cb4161-952b-4b07-ed13-e2584c516b80",
        "colab": {
          "base_uri": "https://localhost:8080/",
          "height": 84
        }
      },
      "source": [
        "a0, an, bn, f_t = FourierSerieSolver().solve_sin_cos(T, function, limits)\n",
        "\n",
        "print('a_0 = ', end='')\n",
        "print(sympy.printing.latex(a0))\n",
        "\n",
        "print('a_n = ', end='')\n",
        "print(sympy.printing.latex(an))\n",
        "\n",
        "print('b_n = ', end='')\n",
        "print(sympy.printing.latex(bn))\n",
        "\n",
        "print('f(t) = ', end='')\n",
        "print(sympy.printing.latex(f_t))"
      ],
      "execution_count": 21,
      "outputs": [
        {
          "output_type": "stream",
          "text": [
            "a_0 = 0.5\n",
            "a_n = 0\n",
            "b_n = \\frac{1.0 \\left(- \\left(-1\\right)^{n} + 1\\right)}{n \\pi}\n",
            "f(t) = 0.5 + \\frac{1.0 \\sum_{n=1}^{\\infty} \\frac{\\left(\\left(-1\\right)^{n + 1} + 1\\right) \\sin{\\left (n \\pi t \\right )}}{n}}{\\pi}\n"
          ],
          "name": "stdout"
        }
      ]
    },
    {
      "cell_type": "markdown",
      "metadata": {
        "id": "WlZpMlwF8F8l",
        "colab_type": "text"
      },
      "source": [
        "## Results\n",
        "\n",
        "### Output:\n",
        "\n",
        "* a_0 = 0.5\n",
        "* a_n = 0\n",
        "* \\frac{1.0 \\left(- \\left(-1\\right)^{n} + 1\\right)}{n \\pi}\n",
        "* f(t) = 0.5 + \\frac{1.0 \\sum_{n=1}^{\\infty} \\frac{\\left(\\left(-1\\right)^{n + 1} + 1\\right) \\sin{\\left (n \\pi t \\right )}}{n}}{\\pi}\n",
        "\n",
        "### To latex\n",
        "\n",
        "* $a_0 = 0.5$\n",
        "* $a_n = 0$\n",
        "* $b_n = \\frac{1.0 \\left(- \\left(-1\\right)^{n} + 1\\right)}{n \\pi}$\n",
        "* $f(t) = 0.5 + \\frac{1.0 \\sum_{n=1}^{\\infty} \\frac{\\left(\\left(-1\\right)^{n + 1} + 1\\right) \\sin{\\left (n \\pi t \\right )}}{n}}{\\pi}$\n"
      ]
    },
    {
      "cell_type": "markdown",
      "metadata": {
        "id": "byjhf6epK_Rn",
        "colab_type": "text"
      },
      "source": [
        "## Plots\n",
        "\n",
        "### Computing"
      ]
    },
    {
      "cell_type": "code",
      "metadata": {
        "id": "htvI-mzlOnm-",
        "colab_type": "code",
        "colab": {}
      },
      "source": [
        "ak = an.subs(n, k)\n",
        "bk = bn.subs(n, k)"
      ],
      "execution_count": 0,
      "outputs": []
    },
    {
      "cell_type": "code",
      "metadata": {
        "id": "biK_ztoWaOMk",
        "colab_type": "code",
        "colab": {}
      },
      "source": [
        "fourier_serie = FourierSeriePlotter(T)\n",
        "time, y = fourier_serie.sin_cos_serie(a0, ak, bk)"
      ],
      "execution_count": 0,
      "outputs": []
    },
    {
      "cell_type": "code",
      "metadata": {
        "id": "7H0cFNvnaOwY",
        "colab_type": "code",
        "colab": {}
      },
      "source": [
        "time, y_aprox, an, phi, wk = fourier_serie.sin_cos_serie_aprox(a0, ak, bk, M)"
      ],
      "execution_count": 0,
      "outputs": []
    },
    {
      "cell_type": "markdown",
      "metadata": {
        "id": "doYqRpBrPiOM",
        "colab_type": "text"
      },
      "source": [
        "### Real function"
      ]
    },
    {
      "cell_type": "code",
      "metadata": {
        "id": "LPn2-bIzPyLQ",
        "colab_type": "code",
        "outputId": "bad6fe46-f927-4fb0-c497-eaf3d5a5f219",
        "colab": {
          "base_uri": "https://localhost:8080/",
          "height": 285
        }
      },
      "source": [
        "plt.plot(time, y, 'k', '', 2)\n",
        "plt.title('Function f(t)')\n",
        "plt.grid(True)\n",
        "plt.axhline(y=0, color='k')\n",
        "plt.axvline(x=0, color='k')"
      ],
      "execution_count": 25,
      "outputs": [
        {
          "output_type": "execute_result",
          "data": {
            "text/plain": [
              "<matplotlib.lines.Line2D at 0x7f3067522be0>"
            ]
          },
          "metadata": {
            "tags": []
          },
          "execution_count": 25
        },
        {
          "output_type": "display_data",
          "data": {
            "image/png": "[encoded data removed]",
            "text/plain": [
              "<Figure size 432x288 with 1 Axes>"
            ]
          },
          "metadata": {
            "tags": []
          }
        }
      ]
    },
    {
      "cell_type": "markdown",
      "metadata": {
        "id": "2cuSIY-6P5_c",
        "colab_type": "text"
      },
      "source": [
        "### Approach"
      ]
    },
    {
      "cell_type": "code",
      "metadata": {
        "id": "pqWncT0jP2KG",
        "colab_type": "code",
        "outputId": "f5865e61-57e6-4f72-ca35-837d6651a78f",
        "colab": {
          "base_uri": "https://localhost:8080/",
          "height": 285
        }
      },
      "source": [
        "plt.plot(time, y_aprox, 'r', '', 2);\n",
        "plt.title('Fourier Serie k = ' + str(M))\n",
        "plt.grid(True)\n",
        "plt.axhline(y=0, color='k')\n",
        "plt.axvline(x=0, color='k')"
      ],
      "execution_count": 26,
      "outputs": [
        {
          "output_type": "execute_result",
          "data": {
            "text/plain": [
              "<matplotlib.lines.Line2D at 0x7f3067425c88>"
            ]
          },
          "metadata": {
            "tags": []
          },
          "execution_count": 26
        },
        {
          "output_type": "display_data",
          "data": {
            "image/png": "[encoded data removed]",
            "text/plain": [
              "<Figure size 432x288 with 1 Axes>"
            ]
          },
          "metadata": {
            "tags": []
          }
        }
      ]
    },
    {
      "cell_type": "markdown",
      "metadata": {
        "id": "xbrZapZrQBPj",
        "colab_type": "text"
      },
      "source": [
        "### Amplitude Spectrum"
      ]
    },
    {
      "cell_type": "code",
      "metadata": {
        "id": "nSwg4IOJP5Pk",
        "colab_type": "code",
        "outputId": "efb56b3f-9b67-4e65-bd10-1ad8d888963e",
        "colab": {
          "base_uri": "https://localhost:8080/",
          "height": 586
        }
      },
      "source": [
        "plt.stem(wk, an);\n",
        "plt.title('Amplitude Spectrum k = ' + str(M))\n",
        "plt.grid(True)\n",
        "plt.axhline(y=0, color='k')\n",
        "plt.axvline(x=0, color='k')\n",
        "\n",
        "for i in range(len(an)):\n",
        "  print(i, round(an[i], 8))"
      ],
      "execution_count": 27,
      "outputs": [
        {
          "output_type": "stream",
          "text": [
            "/usr/local/lib/python3.6/dist-packages/ipykernel_launcher.py:1: UserWarning: In Matplotlib 3.3 individual lines on a stem plot will be added as a LineCollection instead of individual lines. This significantly improves the performance of a stem plot. To remove this warning and switch to the new behaviour, set the \"use_line_collection\" keyword argument to True.\n",
            "  \"\"\"Entry point for launching an IPython kernel.\n"
          ],
          "name": "stderr"
        },
        {
          "output_type": "stream",
          "text": [
            "0 0.63661977\n",
            "1 0.0\n",
            "2 0.21220659\n",
            "3 0.0\n",
            "4 0.12732395\n",
            "5 0.0\n",
            "6 0.09094568\n",
            "7 0.0\n",
            "8 0.07073553\n",
            "9 0.0\n",
            "10 0.05787452\n",
            "11 0.0\n",
            "12 0.04897075\n",
            "13 0.0\n",
            "14 0.04244132\n"
          ],
          "name": "stdout"
        },
        {
          "output_type": "display_data",
          "data": {
            "image/png": "[encoded data removed]",
            "text/plain": [
              "<Figure size 432x288 with 1 Axes>"
            ]
          },
          "metadata": {
            "tags": []
          }
        }
      ]
    },
    {
      "cell_type": "markdown",
      "metadata": {
        "id": "CKVhUpUdQMB3",
        "colab_type": "text"
      },
      "source": [
        "### Phase Spectrum"
      ]
    },
    {
      "cell_type": "code",
      "metadata": {
        "id": "Ct_BQmyDQOXT",
        "colab_type": "code",
        "outputId": "437382c8-0e07-451b-f3a6-1cfc4622df71",
        "colab": {
          "base_uri": "https://localhost:8080/",
          "height": 586
        }
      },
      "source": [
        "plt.stem(wk, phi);\n",
        "plt.title('Phase Spectrum k = ' + str(M))\n",
        "plt.grid(True)\n",
        "plt.axhline(y=0, color='k')\n",
        "plt.axvline(x=0, color='k')\n",
        "\n",
        "for i in range(len(phi)):\n",
        "  print(i, round(phi[i], 8))"
      ],
      "execution_count": 28,
      "outputs": [
        {
          "output_type": "stream",
          "text": [
            "/usr/local/lib/python3.6/dist-packages/ipykernel_launcher.py:1: UserWarning: In Matplotlib 3.3 individual lines on a stem plot will be added as a LineCollection instead of individual lines. This significantly improves the performance of a stem plot. To remove this warning and switch to the new behaviour, set the \"use_line_collection\" keyword argument to True.\n",
            "  \"\"\"Entry point for launching an IPython kernel.\n"
          ],
          "name": "stderr"
        },
        {
          "output_type": "stream",
          "text": [
            "0 -90.0\n",
            "1 0.0\n",
            "2 -90.0\n",
            "3 0.0\n",
            "4 -90.0\n",
            "5 0.0\n",
            "6 -90.0\n",
            "7 0.0\n",
            "8 -90.0\n",
            "9 0.0\n",
            "10 -90.0\n",
            "11 0.0\n",
            "12 -90.0\n",
            "13 0.0\n",
            "14 -90.0\n"
          ],
          "name": "stdout"
        },
        {
          "output_type": "display_data",
          "data": {
            "image/png": "[encoded data removed]",
            "text/plain": [
              "<Figure size 432x288 with 1 Axes>"
            ]
          },
          "metadata": {
            "tags": []
          }
        }
      ]
    }
  ]
}
