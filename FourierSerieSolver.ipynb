{
  "nbformat": 4,
  "nbformat_minor": 0,
  "metadata": {
    "colab": {
      "name": "FourierSerieSolver.ipynb",
      "provenance": []
    },
    "kernelspec": {
      "name": "python3",
      "display_name": "Python 3"
    }
  },
  "cells": [
    {
      "cell_type": "markdown",
      "metadata": {
        "id": "ral5ryhmWPPs",
        "colab_type": "text"
      },
      "source": [
        "# Information\n",
        "\n",
        "*   **Author:** Erick Andrés Obregón Fonseca\n",
        "*   **Career:** Computer Engineering\n",
        "*   **Email:** erickobregonf@gmail.com\n",
        "*   **Github:** [ErickOF](https://github.com/ErickOF)\n",
        "*   **Google Colab Code:** [Code](https://colab.research.google.com/drive/11Rnm7eITKN_uGF0kkI-fl9B6Ml8GHQxC)\n",
        "\n",
        "## Versions\n",
        "### v1.0.0 (december 2018)\n",
        "*   Fourier series plotter (real and approach)\n",
        "\n",
        "### v1.0.1 (december 2018)\n",
        "*   Optimized\n",
        "\n",
        "### v1.1.0 (january 2019)\n",
        "*   Amplitude and phase spectrum\n",
        "\n",
        "### v2.1.0 (july 2019)\n",
        "*   Fourier series solver based on Latex functions syntax, without simplified coefficients\n",
        "*   Only continuous functions \n",
        "\n",
        "### v2.2.0 (july 2019)\n",
        "*   Fourier series solver based on Latex functions syntax, with simplified coefficients\n",
        "*   Now piecewise functions are available\n",
        "*   Only constants functions\n",
        "\n",
        "### v2.2.1 (july 2019)\n",
        "*   Fourier series solver based on Latex functions syntax, with simplified coefficients and functions\n",
        "\n",
        "### v2.2.2 (july 2019)\n",
        "*   Now rational, logarithmic, exponential, trigonometric, inverse trigonometric and polynomial functions are available (I guess anyone :c, I need to test)\n",
        "\n",
        "### v2.2.3 (july 2019)\n",
        "*   The period of the function, the functions and the intervals are now entered by console\n",
        "\n"
      ]
    },
    {
      "cell_type": "markdown",
      "metadata": {
        "id": "gFmrtjSQWFxM",
        "colab_type": "text"
      },
      "source": [
        "# Install modules"
      ]
    },
    {
      "cell_type": "code",
      "metadata": {
        "id": "g979xj6dZP3d",
        "colab_type": "code",
        "outputId": "3e539fb7-7ea0-4e10-c062-c3d38be17a6f",
        "colab": {
          "base_uri": "https://localhost:8080/",
          "height": 234
        }
      },
      "source": [
        "!pip install sympy==1.2"
      ],
      "execution_count": 0,
      "outputs": [
        {
          "output_type": "stream",
          "text": [
            "Collecting sympy==1.2\n",
            "\u001b[?25l  Downloading https://files.pythonhosted.org/packages/b0/47/54f3a752f3b88b9487f38e5e6b7bb96e0b60286b50fd818999f1ffead0cc/sympy-1.2.tar.gz (5.4MB)\n",
            "\u001b[K     |████████████████████████████████| 5.4MB 4.2MB/s \n",
            "\u001b[?25hRequirement already satisfied: mpmath>=0.19 in /usr/local/lib/python3.6/dist-packages (from sympy==1.2) (1.1.0)\n",
            "Building wheels for collected packages: sympy\n",
            "  Building wheel for sympy (setup.py) ... \u001b[?25l\u001b[?25hdone\n",
            "  Stored in directory: /root/.cache/pip/wheels/b4/af/81/7fad05f53f1e451e8ddb4b15aa3908dc98112a9459911ebb66\n",
            "Successfully built sympy\n",
            "Installing collected packages: sympy\n",
            "  Found existing installation: sympy 1.1.1\n",
            "    Uninstalling sympy-1.1.1:\n",
            "      Successfully uninstalled sympy-1.1.1\n",
            "Successfully installed sympy-1.2\n"
          ],
          "name": "stdout"
        }
      ]
    },
    {
      "cell_type": "markdown",
      "metadata": {
        "id": "iji_4w8TLRPf",
        "colab_type": "text"
      },
      "source": [
        "# Modules"
      ]
    },
    {
      "cell_type": "code",
      "metadata": {
        "id": "TpN8MJ1IjhYx",
        "colab_type": "code",
        "colab": {}
      },
      "source": [
        "from google.colab.output._publish import javascript\n",
        "\n",
        "import matplotlib.pyplot as plt\n",
        "\n",
        "import numpy as np\n",
        "import numpy.matlib as matlib\n",
        "\n",
        "import sympy\n",
        "from sympy.abc import k, n, t\n",
        "from sympy import cos, sin, Sum,  oo\n",
        "from sympy import lambdify, simplify, symbols, sympify\n",
        "from sympy.utilities.lambdify import lambdastr"
      ],
      "execution_count": 0,
      "outputs": []
    },
    {
      "cell_type": "markdown",
      "metadata": {
        "id": "FRkxQtD9LTsC",
        "colab_type": "text"
      },
      "source": [
        "# Settings"
      ]
    },
    {
      "cell_type": "code",
      "metadata": {
        "id": "_W3-OK6pLWIu",
        "colab_type": "code",
        "colab": {}
      },
      "source": [
        "def custom_latex_printer(exp,**options):\n",
        "    url = \"https://cdnjs.cloudflare.com/ajax/libs/mathjax/2.7.3/latest.js?config=default\"\n",
        "    javascript(url=url)\n",
        "    return sympy.printing.latex(exp,**options)\n",
        "\n",
        "sympy.init_printing(use_latex=\"mathjax\", latex_printer=custom_latex_printer)"
      ],
      "execution_count": 0,
      "outputs": []
    },
    {
      "cell_type": "markdown",
      "metadata": {
        "id": "tb47yg8RmsOh",
        "colab_type": "text"
      },
      "source": [
        "# Fourier Series Solver\n",
        "\n",
        "##  Fourier Sine and Cosine Series\n",
        "\n",
        "$f(t) = a_0 + \\sum_{n=1}^\\infty [a_n \\cos (w_0 t) + b_n \\sin (w_0 t)]$\n",
        "\n",
        "$a_0 = \\frac{1}{T} \\int_{t_0}^{t_0 + T} f(t) dt$\n",
        "\n",
        "$a_n = \\frac{2}{T} \\int_{t_0}^{t_0 + T} f(t) cos (n w_0 t) dt$\n",
        "\n",
        "$b_n = \\frac{2}{T} \\int_{t_0}^{t_0 + T} f(t) sin (n w_0 t) dt$\n",
        "\n",
        "## Params\n",
        "\n",
        "* *T:* Period\n",
        "* *funtions:* Iterable with each part of the function\n",
        "* *limits:* Iterable with the ranges of each part of the function"
      ]
    },
    {
      "cell_type": "code",
      "metadata": {
        "id": "bDH4waQ4mw-8",
        "colab_type": "code",
        "colab": {}
      },
      "source": [
        "class FourierSerieSolver:\n",
        "  \n",
        "  def solve_sin_cos(self, T, funtions, limits=None):\n",
        "    if isinstance(funtions, (list, tuple)) and isinstance(funtions, (list, tuple)):\n",
        "      if len(funtions) == len(limits):\n",
        "        # w0\n",
        "        pi = sympy.Symbol('pi')\n",
        "        w0 = 2*pi/T\n",
        "        \n",
        "        # a0\n",
        "        a0, an, bn = 0, 0, 0\n",
        "        \n",
        "        for f, lim in zip(funtions, limits):\n",
        "          a0 += 1/T * sympy.integrate(f, (t, lim[0], lim[1]))\n",
        "          an += 2/T * sympy.integrate(f*cos(n*t*w0), (t, lim[0], lim[1]), conds='separate')\n",
        "          bn += 2/T * sympy.integrate(f*sin(n*t*w0), (t, lim[0], lim[1]), conds='separate')\n",
        "        \n",
        "        # Simplify\n",
        "        an = simplify(an.subs(cos(2*n*pi), 1).subs(sin(2*n*pi), 0).subs(cos(n*pi), (-1)**n).subs(sin(n*pi), 0))\n",
        "        bn = simplify(bn.subs(cos(2*n*pi), 1).subs(sin(2*n*pi), 0).subs(cos(n*pi), (-1)**n).subs(sin(n*pi), 0))\n",
        "        f_t = simplify(a0 + Sum(an*cos(n*w0*t) + bn*sin(n*w0*t), (n, 1, oo)))\n",
        "        \n",
        "        return a0, an, bn, f_t\n",
        "      else:\n",
        "        raise ValueError('Functions and limits size doesn\\'t match.')\n",
        "    else:\n",
        "      raise ValueError('Functions and limits must be a iterable.')"
      ],
      "execution_count": 0,
      "outputs": []
    },
    {
      "cell_type": "markdown",
      "metadata": {
        "id": "mh8vJgvkO7fj",
        "colab_type": "text"
      },
      "source": [
        "# Fourier Series Plotter"
      ]
    },
    {
      "cell_type": "code",
      "metadata": {
        "id": "XtH7cT9IObSn",
        "colab_type": "code",
        "colab": {}
      },
      "source": [
        "class FourierSeriePlotter:\n",
        "    def __init__(self, T, start=None, end=None, step=None):\n",
        "        \"\"\"\n",
        "        T     - Period\n",
        "        a0    - CD component\n",
        "        start - Initial value for time. Default value -2*T\n",
        "        end   - Final value for time. Default value 2*T\n",
        "        step  - Step by step in time. Default value 0.001\n",
        "        \"\"\"\n",
        "        # Period\n",
        "        self.__T = T\n",
        "        \n",
        "        # Angular frecuency\n",
        "        self.__w = (2*np.pi)/self.__T\n",
        "        \n",
        "        # Time\n",
        "        if (start == None):\n",
        "            start = -2*T\n",
        "        if (end == None):\n",
        "            end = 2*T\n",
        "        if (step == None):\n",
        "            step = 0.01\n",
        "        \n",
        "        N = (end - start)/step\n",
        "        self.__t = np.linspace(start, end, N)\n",
        "    \n",
        "    def sin_cos_serie(self, a0, ak_exp, bk_exp):\n",
        "        ak_f = lambdify(ak_exp.free_symbols, ak_exp, 'numpy')\n",
        "        bk_f = lambdify(bk_exp.free_symbols, bk_exp, 'numpy')\n",
        "        \n",
        "        y = a0\n",
        "        N = 10000\n",
        "\n",
        "        for k in range(1, N + 1):\n",
        "            # ak\n",
        "            ak = 0\n",
        "            if len(ak_exp.free_symbols) == 2:\n",
        "              ak = ak_f(np.pi, k)\n",
        "            # bk\n",
        "            bk = 0\n",
        "            if len(bk_exp.free_symbols) == 2:\n",
        "              bk = bk_f(np.pi, k)\n",
        "            \n",
        "            y += ak*np.cos(self.__w*k*self.__t) + bk*np.sin(self.__w*k*self.__t)\n",
        "\n",
        "        return self.__t, y\n",
        "\n",
        "    def sin_cos_serie_aprox(self, a0, ak_exp, bk_exp, N=50):\n",
        "        ak_f = lambdify(ak_exp.free_symbols, ak_exp, 'numpy')\n",
        "        bk_f = lambdify(bk_exp.free_symbols, bk_exp, 'numpy')\n",
        "        \n",
        "        # Approach\n",
        "        y = a0\n",
        "        # Amplitude Spectrum\n",
        "        an = np.zeros(N)\n",
        "        # Phase Spectrum\n",
        "        phi = np.zeros(N)\n",
        "\n",
        "        wk = self.__w*np.array(range(1, N + 1))\n",
        "\n",
        "        for k in range(1, N + 1):\n",
        "            # ak\n",
        "            ak = 0\n",
        "            if len(ak_exp.free_symbols) == 2:\n",
        "              ak = ak_f(np.pi, k)\n",
        "            # bk\n",
        "            bk = 0\n",
        "            if len(bk_exp.free_symbols) == 2:\n",
        "              bk = bk_f(np.pi, k)\n",
        "            \n",
        "            y += ak*np.cos(wk[k - 1]*self.__t) + bk*np.sin(wk[k - 1]*self.__t)\n",
        "            \n",
        "            an[k - 1] = np.sqrt(ak**2 + bk**2)\n",
        "        \n",
        "            if (ak == 0 and bk == 0) or (ak < 0 and bk == 0):\n",
        "                phi[k - 1] = 0\n",
        "            elif ak >= 0 and bk == 0:\n",
        "                phi[k - 1] = 180\n",
        "            elif ak == 0 and bk > 0:\n",
        "                phi[k - 1] = -90\n",
        "            elif ak == 0 and bk < 0:\n",
        "                phi[k - 1] = 90\n",
        "            else:\n",
        "                phi[k - 1] = -np.arctan(bk/ak)*180/np.pi\n",
        "                \n",
        "                if ak > 0 and bk > 0:\n",
        "                    phi[k - 1] += 180\n",
        "                elif ak < 0 and bk > 0:\n",
        "                    phi[k - 1] -= 180\n",
        "        \n",
        "        return self.__t, y, an, phi, wk"
      ],
      "execution_count": 0,
      "outputs": []
    },
    {
      "cell_type": "markdown",
      "metadata": {
        "id": "dpreJBlB0hAk",
        "colab_type": "text"
      },
      "source": [
        "## Instructions\n",
        "\n",
        "1.   Enter the period of the function\n",
        "2.   Enter the number of piecewise of the function\n",
        "3.   Enter each piecewise without spaces\n",
        "\n",
        "  *   $f_i(t)$ : function\n",
        "  *   $a_i$ : lower limit\n",
        "  *   $b_i$ : upper limit\n",
        "  \n",
        " \n",
        " ## Symbols:\n",
        " \n",
        " * $ t + 1 $ = t+1\n",
        " * $ t - 1 $ = t-1\n",
        " * $ at $ = a*t\n",
        " * $ \\frac{t}{a} $ = t/a\n",
        " * $ t^n $ = t**n\n",
        " * $ \\sqrt[n]{t} $ = t**(1/n)\n",
        " "
      ]
    },
    {
      "cell_type": "markdown",
      "metadata": {
        "id": "nNXxB8g8kWnY",
        "colab_type": "text"
      },
      "source": [
        "# Example\n",
        "\n",
        "## Inputs\n",
        "\n",
        "![alt text](https://img2.freepng.es/20180613/zuf/kisspng-rectangular-function-square-wave-pulse-signal-rect-t-square-5b20d0055eee30.0876261715288770613889.jpg \"Logo Title Text 1\")\n",
        "\n",
        "#### Piecewise function\n",
        "$f_1(t)=1; \\space 0 < t < 1$\n",
        "\n",
        "$f_2(t)=0; \\space 1 < t < 2$\n",
        "\n",
        "\n",
        "#### T: Period\n",
        "$T = 2$\n",
        "\n",
        "\n",
        "## In this case\n",
        "\n",
        "Period T = *2*\n",
        "\n",
        "Amount of piecewise functions: *2*\n",
        "\n",
        "f1(t) = *1*\n",
        "\n",
        "a1 = *0*\n",
        "\n",
        "b1 = *1*\n",
        "\n",
        "\n",
        "f2(t) = *0*\n",
        "\n",
        "a2 = *1*\n",
        "\n",
        "b2 = *2*"
      ]
    },
    {
      "cell_type": "code",
      "metadata": {
        "id": "hqszYONSkVs9",
        "colab_type": "code",
        "outputId": "92963619-8aea-42e2-9a57-0f641e99c2e7",
        "colab": {
          "base_uri": "https://localhost:8080/",
          "height": 184
        }
      },
      "source": [
        "# Period\n",
        "T = eval(input('Period T = '))\n",
        "\n",
        "# Amount of piecewise functions\n",
        "amount = int(input('Amount of piecewise functions: '))\n",
        "\n",
        "function = []\n",
        "limits = []\n",
        "\n",
        "for i in range(amount):\n",
        "  # Function\n",
        "  f_str = input('f{}(t) = '.format(i+1))\n",
        "  f = sympify(f_str)\n",
        "  a = eval(input('a{} = '.format(i+1)))\n",
        "  b = eval(input('b{} = '.format(i+1)))\n",
        "  lim = (a, b)\n",
        "  \n",
        "  function.append(f)\n",
        "  limits.append(lim)\n",
        "  print()"
      ],
      "execution_count": 0,
      "outputs": [
        {
          "output_type": "stream",
          "text": [
            "Period T = 2\n",
            "Amount of piecewise functions: 2\n",
            "f1(t) = sin(t)\n",
            "a1 = 0\n",
            "b1 = 1\n",
            "\n",
            "f2(t) = 0\n",
            "a2 = 1\n",
            "b2 = 2\n",
            "\n"
          ],
          "name": "stdout"
        }
      ]
    },
    {
      "cell_type": "markdown",
      "metadata": {
        "id": "-0Qxjgu6PT3J",
        "colab_type": "text"
      },
      "source": [
        "## Solving"
      ]
    },
    {
      "cell_type": "code",
      "metadata": {
        "id": "1PkncQrgqWGb",
        "colab_type": "code",
        "outputId": "424e4a39-8aea-4ef5-81de-20a29ff394d2",
        "colab": {
          "base_uri": "https://localhost:8080/",
          "height": 104
        }
      },
      "source": [
        "a0, an, bn, f_t = FourierSerieSolver().solve_sin_cos(T, function, limits)\n",
        "\n",
        "print('a_0 = ', end='')\n",
        "print(sympy.printing.latex(a0))\n",
        "\n",
        "print('a_n = ', end='')\n",
        "print(sympy.printing.latex(an))\n",
        "\n",
        "print('b_n = ', end='')\n",
        "print(sympy.printing.latex(bn))\n",
        "\n",
        "print('f(t) = ', end='')\n",
        "print(sympy.printing.latex(f_t))"
      ],
      "execution_count": 0,
      "outputs": [
        {
          "output_type": "stream",
          "text": [
            "a_0 = - 0.5 \\cos{\\left (1 \\right )} + 0.5\n",
            "a_n = \\frac{1.0 \\left(\\left(-1\\right)^{n} \\cos{\\left (1 \\right )} - 1\\right)}{n^{2} \\pi^{2} - 1}\n",
            "b_n = - \\frac{1.0 \\left(-1\\right)^{n} n \\pi \\sin{\\left (1 \\right )}}{n^{2} \\pi^{2} - 1}\n",
            "f(t) = 1.0 \\sum_{n=1}^{\\infty} \\frac{\\left(-1\\right)^{n + 1} n \\pi \\sin{\\left (1 \\right )} \\sin{\\left (n \\pi t \\right )} + \\left(\\left(-1\\right)^{n} \\cos{\\left (1 \\right )} - 1\\right) \\cos{\\left (n \\pi t \\right )}}{n^{2} \\pi^{2} - 1} - 0.5 \\cos{\\left (1 \\right )} + 0.5\n"
          ],
          "name": "stdout"
        }
      ]
    },
    {
      "cell_type": "markdown",
      "metadata": {
        "id": "WlZpMlwF8F8l",
        "colab_type": "text"
      },
      "source": [
        "## Results\n",
        "\n",
        "### Output:\n",
        "\n",
        "* a_0 = 0.5\n",
        "* a_n = 0\n",
        "* \\frac{1.0 \\left(- \\left(-1\\right)^{n} + 1\\right)}{n \\pi}\n",
        "* f(t) = 0.5 + \\frac{1.0 \\sum_{n=1}^{\\infty} \\frac{\\left(\\left(-1\\right)^{n + 1} + 1\\right) \\sin{\\left (n \\pi t \\right )}}{n}}{\\pi}\n",
        "\n",
        "### To latex\n",
        "\n",
        "* $a_0 = 0.5$\n",
        "* $a_n = 0$\n",
        "* $b_n = \\frac{1.0 \\left(- \\left(-1\\right)^{n} + 1\\right)}{n \\pi}$\n",
        "* $f(t) = 0.5 + \\frac{1.0 \\sum_{n=1}^{\\infty} \\frac{\\left(\\left(-1\\right)^{n + 1} + 1\\right) \\sin{\\left (n \\pi t \\right )}}{n}}{\\pi}$\n"
      ]
    },
    {
      "cell_type": "markdown",
      "metadata": {
        "id": "byjhf6epK_Rn",
        "colab_type": "text"
      },
      "source": [
        "## Plots\n",
        "\n",
        "### Computing"
      ]
    },
    {
      "cell_type": "code",
      "metadata": {
        "id": "htvI-mzlOnm-",
        "colab_type": "code",
        "colab": {}
      },
      "source": [
        "ak = an.subs(n, k)\n",
        "bk = bn.subs(n, k)"
      ],
      "execution_count": 0,
      "outputs": []
    },
    {
      "cell_type": "code",
      "metadata": {
        "id": "biK_ztoWaOMk",
        "colab_type": "code",
        "outputId": "7a9343b3-7108-4419-e5a9-cf5c9d4e6bd4",
        "colab": {
          "base_uri": "https://localhost:8080/",
          "height": 33
        }
      },
      "source": [
        "fourier_serie = FourierSeriePlotter(T)\n",
        "time, y = fourier_serie.sin_cos_serie(a0, ak, bk)"
      ],
      "execution_count": 0,
      "outputs": [
        {
          "output_type": "stream",
          "text": [
            "/usr/local/lib/python3.6/dist-packages/ipykernel_launcher.py:25: DeprecationWarning: object of type <class 'float'> cannot be safely interpreted as an integer.\n"
          ],
          "name": "stderr"
        }
      ]
    },
    {
      "cell_type": "code",
      "metadata": {
        "id": "7H0cFNvnaOwY",
        "colab_type": "code",
        "colab": {}
      },
      "source": [
        "M = 10\n",
        "time, y_aprox, an, phi, wk = fourier_serie.sin_cos_serie_aprox(a0, ak, bk, M)"
      ],
      "execution_count": 0,
      "outputs": []
    },
    {
      "cell_type": "markdown",
      "metadata": {
        "id": "doYqRpBrPiOM",
        "colab_type": "text"
      },
      "source": [
        "### Real function"
      ]
    },
    {
      "cell_type": "code",
      "metadata": {
        "id": "LPn2-bIzPyLQ",
        "colab_type": "code",
        "outputId": "2ac701ba-d0d9-4bac-a37c-b571c603969b",
        "colab": {
          "base_uri": "https://localhost:8080/",
          "height": 284
        }
      },
      "source": [
        "plt.plot(time, y, 'k', '', 2)\n",
        "plt.title('Function f(t)')\n",
        "plt.grid(True)\n",
        "plt.axhline(y=0, color='k')\n",
        "plt.axvline(x=0, color='k')"
      ],
      "execution_count": 0,
      "outputs": [
        {
          "output_type": "execute_result",
          "data": {
            "text/plain": [
              "<matplotlib.lines.Line2D at 0x7f805bd9ba90>"
            ]
          },
          "metadata": {
            "tags": []
          },
          "execution_count": 20
        },
        {
          "output_type": "display_data",
          "data": {
            "image/png": "[encoded data removed]",
            "text/plain": [
              "<Figure size 432x288 with 1 Axes>"
            ]
          },
          "metadata": {
            "tags": []
          }
        }
      ]
    },
    {
      "cell_type": "markdown",
      "metadata": {
        "id": "2cuSIY-6P5_c",
        "colab_type": "text"
      },
      "source": [
        "### Approach"
      ]
    },
    {
      "cell_type": "code",
      "metadata": {
        "id": "pqWncT0jP2KG",
        "colab_type": "code",
        "outputId": "352242ac-9892-48b1-8820-fba1011d0287",
        "colab": {
          "base_uri": "https://localhost:8080/",
          "height": 284
        }
      },
      "source": [
        "plt.plot(time, y_aprox, 'r', '', 2)\n",
        "plt.title('Fourier Serie k = ' + str(M))\n",
        "plt.grid(True)\n",
        "plt.axhline(y=0, color='k')\n",
        "plt.axvline(x=0, color='k')"
      ],
      "execution_count": 0,
      "outputs": [
        {
          "output_type": "execute_result",
          "data": {
            "text/plain": [
              "<matplotlib.lines.Line2D at 0x7f805be4d2b0>"
            ]
          },
          "metadata": {
            "tags": []
          },
          "execution_count": 21
        },
        {
          "output_type": "display_data",
          "data": {
            "image/png": "[encoded data removed]",
            "text/plain": [
              "<Figure size 432x288 with 1 Axes>"
            ]
          },
          "metadata": {
            "tags": []
          }
        }
      ]
    },
    {
      "cell_type": "markdown",
      "metadata": {
        "id": "xbrZapZrQBPj",
        "colab_type": "text"
      },
      "source": [
        "### Amplitude Spectrum"
      ]
    },
    {
      "cell_type": "code",
      "metadata": {
        "id": "nSwg4IOJP5Pk",
        "colab_type": "code",
        "outputId": "b36ffe42-d6c4-4093-a315-2393c7f4efca",
        "colab": {
          "base_uri": "https://localhost:8080/",
          "height": 448
        }
      },
      "source": [
        "plt.stem(wk, an)\n",
        "plt.title('Amplitude Spectrum k = ' + str(M))\n",
        "plt.grid(True)\n",
        "plt.axhline(y=0, color='k')\n",
        "plt.axvline(x=0, color='k')\n",
        "\n",
        "for i in range(len(an)):\n",
        "  print(i, round(an[i], 8))"
      ],
      "execution_count": 0,
      "outputs": [
        {
          "output_type": "stream",
          "text": [
            "0 0.34494939\n",
            "1 0.13792316\n",
            "2 0.09198679\n",
            "3 0.06745253\n",
            "4 0.05415168\n",
            "5 0.04478622\n",
            "6 0.03847596\n",
            "7 0.03354208\n",
            "8 0.0298606\n",
            "9 0.02681607\n"
          ],
          "name": "stdout"
        },
        {
          "output_type": "display_data",
          "data": {
            "image/png": "[encoded data removed]",
            "text/plain": [
              "<Figure size 432x288 with 1 Axes>"
            ]
          },
          "metadata": {
            "tags": []
          }
        }
      ]
    },
    {
      "cell_type": "markdown",
      "metadata": {
        "id": "CKVhUpUdQMB3",
        "colab_type": "text"
      },
      "source": [
        "### Phase Spectrum"
      ]
    },
    {
      "cell_type": "code",
      "metadata": {
        "id": "Ct_BQmyDQOXT",
        "colab_type": "code",
        "outputId": "a18aa0dc-bbbf-4f0f-c2dc-bef6a9053fc2",
        "colab": {
          "base_uri": "https://localhost:8080/",
          "height": 448
        }
      },
      "source": [
        "plt.stem(wk, phi)\n",
        "plt.title('Phase Spectrum k = ' + str(M))\n",
        "plt.grid(True)\n",
        "plt.axhline(y=0, color='k')\n",
        "plt.axvline(x=0, color='k')\n",
        "\n",
        "for i in range(len(phi)):\n",
        "  print(i, round(phi[i], 8))"
      ],
      "execution_count": 0,
      "outputs": [
        {
          "output_type": "stream",
          "text": [
            "0 -120.2277443\n",
            "1 -85.03081542\n",
            "2 -100.99119214\n",
            "3 -87.51072673\n",
            "4 -96.64683914\n",
            "5 -88.33990426\n",
            "6 -94.75818736\n",
            "7 -88.75477576\n",
            "8 -93.70417432\n",
            "9 -89.00376414\n"
          ],
          "name": "stdout"
        },
        {
          "output_type": "display_data",
          "data": {
            "image/png": "[encoded data removed]",
            "text/plain": [
              "<Figure size 432x288 with 1 Axes>"
            ]
          },
          "metadata": {
            "tags": []
          }
        }
      ]
    }
  ]
}
